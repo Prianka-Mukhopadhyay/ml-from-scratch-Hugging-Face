{
  "nbformat": 4,
  "nbformat_minor": 0,
  "metadata": {
    "colab": {
      "provenance": [],
      "authorship_tag": "ABX9TyPNoEM2+kQkNNVxHJt5bv28",
      "include_colab_link": true
    },
    "kernelspec": {
      "name": "python3",
      "display_name": "Python 3"
    },
    "language_info": {
      "name": "python"
    }
  },
  "cells": [
    {
      "cell_type": "markdown",
      "metadata": {
        "id": "view-in-github",
        "colab_type": "text"
      },
      "source": [
        "<a href=\"https://colab.research.google.com/github/Prianka-Mukhopadhyay/ml-from-scratch-Hugging-Face/blob/main/Python_for_Beginners.ipynb\" target=\"_parent\"><img src=\"https://colab.research.google.com/assets/colab-badge.svg\" alt=\"Open In Colab\"/></a>"
      ]
    },
    {
      "cell_type": "code",
      "execution_count": null,
      "metadata": {
        "colab": {
          "base_uri": "https://localhost:8080/"
        },
        "id": "RPZDb7Fr7FOL",
        "outputId": "8e0b99f8-925a-4adb-f23b-cbea863a1c88"
      },
      "outputs": [
        {
          "output_type": "stream",
          "name": "stdout",
          "text": [
            "hbgsjnc\n",
            "{'name': 'alice', 'age': 25, 'skills': ['python', 'sql'], 'profile': {'github': 'hbgsjnc', 'linkedin': 'dhngcjdc'}, 'email': 'h fhsn'}\n",
            "{'name': 'alice', 'age': 27, 'skills': ['python', 'sql'], 'profile': {'github': 'hbgsjnc', 'linkedin': 'dhngcjdc'}, 'email': 'h fhsn'}\n",
            "None\n",
            "['python', 'sql']\n",
            "27\n",
            "{'name': 'alice', 'skills': ['python', 'sql'], 'profile': {'github': 'hbgsjnc', 'linkedin': 'dhngcjdc'}, 'email': 'h fhsn'}\n",
            "{'name': 'alice', 'profile': {'github': 'hbgsjnc', 'linkedin': 'dhngcjdc'}, 'email': 'h fhsn'}\n"
          ]
        }
      ],
      "source": [
        "person={\n",
        "    \"name\":\"alice\",\n",
        "    \"age\":25,\n",
        "    \"skills\":[\"python\",\"sql\"],\n",
        "    \"profile\":{\"github\":\"hbgsjnc\",\"linkedin\":\"dhngcjdc\"}\n",
        "}\n",
        "print(person[\"profile\"][\"github\"])\n",
        "person[\"email\"]=\"h fhsn\"\n",
        "print(person)\n",
        "person[\"age\"]=27\n",
        "print(person)\n",
        "print(person.get(\"salary\"))\n",
        "print(person.get(\"skills\"))\n",
        "p=person.pop(\"age\")\n",
        "print(p)\n",
        "print(person)\n",
        "del person[\"skills\"]\n",
        "print(person)\n",
        "# person.clear()\n",
        "# print(person)\n"
      ]
    },
    {
      "cell_type": "code",
      "source": [
        "for key in person:\n",
        "  print(f'{key} -> {person[key]}')\n",
        "person['time']=9.45\n",
        "print(\"=====after====\")\n",
        "for key,value in person.items():\n",
        "  print(key,\"->\",value)"
      ],
      "metadata": {
        "colab": {
          "base_uri": "https://localhost:8080/"
        },
        "id": "ufhi9Ndh9EYD",
        "outputId": "6bc821cf-4746-4865-e83c-8d541f2c7bcd"
      },
      "execution_count": null,
      "outputs": [
        {
          "output_type": "stream",
          "name": "stdout",
          "text": [
            "name -> alice\n",
            "profile -> {'github': 'hbgsjnc', 'linkedin': 'dhngcjdc'}\n",
            "email -> h fhsn\n",
            "time -> 9.45\n",
            "=====after====\n",
            "name -> alice\n",
            "profile -> {'github': 'hbgsjnc', 'linkedin': 'dhngcjdc'}\n",
            "email -> h fhsn\n",
            "time -> 9.45\n"
          ]
        }
      ]
    },
    {
      "cell_type": "code",
      "source": [
        "users = {\n",
        "    \"user1\": {\"name\": \"Alice\", \"age\": 25},\n",
        "    \"user2\": {\"name\": \"Bob\", \"age\": 30}\n",
        "}\n",
        "\n",
        "print(users[\"user2\"][\"name\"])   # Bob\n"
      ],
      "metadata": {
        "colab": {
          "base_uri": "https://localhost:8080/"
        },
        "id": "i6YS3Cdr9jML",
        "outputId": "2789b106-5801-4936-bd96-e39ac874c7b9"
      },
      "execution_count": null,
      "outputs": [
        {
          "output_type": "stream",
          "name": "stdout",
          "text": [
            "Bob\n"
          ]
        }
      ]
    },
    {
      "cell_type": "code",
      "source": [
        "print(person.keys())    # dict_keys([...])\n",
        "print(person.values())  # dict_values([...])\n",
        "print(person.items())   # dict_items([...])\n",
        "\n",
        "person.update({\"age\": 27, \"location\": \"NY\"})\n",
        "print(person)\n"
      ],
      "metadata": {
        "colab": {
          "base_uri": "https://localhost:8080/"
        },
        "id": "XpSzke509nnb",
        "outputId": "e76579fd-0766-4ca4-d7c8-c655de6a5dff"
      },
      "execution_count": null,
      "outputs": [
        {
          "output_type": "stream",
          "name": "stdout",
          "text": [
            "dict_keys(['name', 'profile', 'email', 'time'])\n",
            "dict_values(['alice', {'github': 'hbgsjnc', 'linkedin': 'dhngcjdc'}, 'h fhsn', 9.45])\n",
            "dict_items([('name', 'alice'), ('profile', {'github': 'hbgsjnc', 'linkedin': 'dhngcjdc'}), ('email', 'h fhsn'), ('time', 9.45)])\n",
            "{'name': 'alice', 'profile': {'github': 'hbgsjnc', 'linkedin': 'dhngcjdc'}, 'email': 'h fhsn', 'time': 9.45, 'age': 27, 'location': 'NY'}\n"
          ]
        }
      ]
    },
    {
      "cell_type": "markdown",
      "source": [
        "##**Object Oriented Programming**\n",
        "Class → a blueprint (like a plan for a house)\n",
        "Object → a real instance created from the class (the actual house)\n",
        "\n",
        "For example:\n",
        "Class: Car\n",
        "Objects: my_car, friend_car"
      ],
      "metadata": {
        "id": "r2mFPROl981M"
      }
    },
    {
      "cell_type": "code",
      "source": [
        "# What is __init__?\n",
        "# It’s a constructor in Python.\n",
        "# A constructor is a special method that runs automatically whenever you create an object from the class.\n",
        "# Its job: initialize attributes of the object.\n",
        "# self is just a reference to the current object (like this in Java).\n",
        "# It lets you access attributes and methods inside the same object.\n",
        "# 👉 In Python, you must explicitly write self as the first parameter in every instance method (unlike Java where this is implicit).\n",
        "# What about data types / return type?\n",
        "# Python does not require declaring return types (like void in Java).\n",
        "# Every function returns something:\n",
        "# If you don’t write return, Python automatically returns None (like void).\n",
        "# If you write return x, it returns that value.\n",
        "class Car:\n",
        "    def __init__(self, brand, model):\n",
        "        # this runs automatically when you do Car(\"Tesla\", \"Model S\")\n",
        "        self.brand = brand\n",
        "        self.model = model\n",
        "car1 = Car(\"Tesla\", \"Model S\")     # Car.__init__(car1, \"Tesla\", \"Model S\")\n"
      ],
      "metadata": {
        "id": "eC2RBhy-9_oP"
      },
      "execution_count": null,
      "outputs": []
    },
    {
      "cell_type": "code",
      "source": [
        "print(car1.brand)"
      ],
      "metadata": {
        "colab": {
          "base_uri": "https://localhost:8080/"
        },
        "id": "iFTRrixr_mpM",
        "outputId": "d2a3cdef-7793-4282-d58d-bd2d4755aede"
      },
      "execution_count": null,
      "outputs": [
        {
          "output_type": "stream",
          "name": "stdout",
          "text": [
            "Tesla\n"
          ]
        }
      ]
    },
    {
      "cell_type": "code",
      "source": [
        "class Car:\n",
        "    def __init__(self, brand, model):  # constructor\n",
        "        self.brand = brand    # instance attribute\n",
        "        self.model = model\n",
        "\n",
        "    def drive(self):   # method\n",
        "        print(f\"{self.brand} {self.model} is driving 🚗\")\n"
      ],
      "metadata": {
        "id": "UIII-XmE_uhO"
      },
      "execution_count": null,
      "outputs": []
    },
    {
      "cell_type": "code",
      "source": [
        "car1 = Car(\"Tesla\", \"Model S\")\n",
        "car2 = Car(\"BMW\", \"X5\")\n",
        "\n",
        "print(car1.brand)   # Tesla\n",
        "print(car2.model)   # X5\n",
        "\n",
        "car1.drive()  # Tesla Model S is driving 🚗\n",
        "# car1 ia an object of the class Car it has attributes like brand= tesla and model =model s and methods which can be accesed like .drive()"
      ],
      "metadata": {
        "colab": {
          "base_uri": "https://localhost:8080/"
        },
        "id": "JBrLbB6pAxAI",
        "outputId": "7ffa28d3-140b-447c-b363-c8205a1dd306"
      },
      "execution_count": null,
      "outputs": [
        {
          "output_type": "stream",
          "name": "stdout",
          "text": [
            "Tesla\n",
            "X5\n",
            "Tesla Model S is driving 🚗\n"
          ]
        }
      ]
    },
    {
      "cell_type": "code",
      "source": [
        "class Student:\n",
        "    school_name = \"Greenwood High\"   # class attribute. Shared by all objects.  Defined outside __init__.\n",
        "\n",
        "    def __init__(self, name, age):\n",
        "        self.name = name   # instance attribute\n",
        "        self.age = age\n",
        "\n",
        "    def get_details(self):     #Instance Methods.  Work on a specific object.  Always have self as first parameter.\n",
        "        return f\"Name: {self.name}, Age: {self.age}\"\n",
        "\n",
        "s1 = Student(\"Alice\", 20)\n",
        "s2 = Student(\"Bob\", 22)\n",
        "print(s1.get_details())   # Name: Alice, Age: 20\n",
        "\n",
        "print(s1.name)  # Alice\n",
        "print(s2.name)  # Bob\n",
        "# 👉 Each object has its own copy of these attributes.\n",
        "\n",
        "print(s1.school_name)   # Greenwood High\n",
        "print(s2.school_name)   # Greenwood High\n",
        "\n",
        "# 👉 Changing school_name will affect all students."
      ],
      "metadata": {
        "colab": {
          "base_uri": "https://localhost:8080/"
        },
        "id": "J3yALtI3AzGx",
        "outputId": "3dca2cc1-1b1d-41f4-a102-360bfc21fe46"
      },
      "execution_count": null,
      "outputs": [
        {
          "output_type": "stream",
          "name": "stdout",
          "text": [
            "Name: Alice, Age: 20\n",
            "Alice\n",
            "Bob\n",
            "Greenwood High\n",
            "Greenwood High\n"
          ]
        }
      ]
    },
    {
      "cell_type": "code",
      "source": [
        "# Class Methods\n",
        "# Work at the class level, not object level.\n",
        "# Defined with @classmethod.\n",
        "# First parameter is cls (refers to class itself).\n",
        "\n",
        "class Student:\n",
        "  school_name = \"Greenwood High\"\n",
        "  def __init__(self,name):\n",
        "    self.name=Name\n",
        "\n",
        "  @classmethod\n",
        "  def change_school(cls, new_name):\n",
        "        cls.school_name = new_name\n",
        "\n",
        "Student.change_school(\"Sunrise Academy\")\n",
        "print(Student.school_name)  # Sunrise Academy"
      ],
      "metadata": {
        "colab": {
          "base_uri": "https://localhost:8080/"
        },
        "id": "mNuoB0tCEJjA",
        "outputId": "0bbb9a81-a59c-4c5b-8dde-3419402ff131"
      },
      "execution_count": null,
      "outputs": [
        {
          "output_type": "stream",
          "name": "stdout",
          "text": [
            "Sunrise Academy\n"
          ]
        }
      ]
    },
    {
      "cell_type": "code",
      "source": [
        "# Static Methods\n",
        "# Independent — don’t need self or cls.\n",
        "# Just a normal function inside a class.\n",
        "class MathUtils:\n",
        "    @staticmethod\n",
        "    def add(a, b):\n",
        "        return a + b\n",
        "\n",
        "print(MathUtils.add(5, 7))  # 12\n"
      ],
      "metadata": {
        "id": "0vliH4DFE5cd"
      },
      "execution_count": null,
      "outputs": []
    },
    {
      "cell_type": "code",
      "source": [],
      "metadata": {
        "id": "_4bT7aoaFKTk"
      },
      "execution_count": null,
      "outputs": []
    }
  ]
}